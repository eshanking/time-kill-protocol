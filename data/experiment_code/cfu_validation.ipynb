{
 "cells": [
  {
   "cell_type": "code",
   "execution_count": 1,
   "metadata": {},
   "outputs": [],
   "source": [
    "import re\n",
    "import os\n",
    "# add the parent directory to the path\n",
    "import sys\n",
    "sys.path.append('../../')\n",
    "from fears.utils import AutoRate\n",
    "import numpy as np\n",
    "import matplotlib.pyplot as plt\n",
    "import matplotlib as mpl\n",
    "import scipy\n",
    "from scipy.integrate import odeint\n",
    "from scipy.optimize import curve_fit\n",
    "import pickle\n",
    "import pandas as pd\n",
    "import calibration_08302023 as cal\n",
    "from utils import *\n",
    "\n",
    "folder_path = '../experiment_data/cfu_validation'\n",
    "\n",
    "exp_layout = {0:['B','C','D'],\n",
    "              10:['E','F','G']}\n",
    "\n",
    "# These functions help with sorting the file names in natural order\n",
    "def atoi(text):\n",
    "    return int(text) if text.isdigit() else text\n",
    "\n",
    "def natural_keys(text):\n",
    "    '''\n",
    "    alist.sort(key=natural_keys) sorts in human order\n",
    "    http://nedbatchelder.com/blog/200712/human_sorting.html\n",
    "    (See Toothy's implementation in the comments)\n",
    "    '''\n",
    "    return [ atoi(c) for c in re.split(r'(\\d+)', text) ]\n",
    "\n",
    "\n",
    "rfu30_to_dilution = cal.run()\n",
    "\n",
    "def get_timeseries(folder_path):\n",
    "    \"\"\"Takes a folder of excel files and returns a list of plates and a list of data\n",
    "    Each element in the list corresponds to a plate scan.\n",
    "    Specify plate num to get the data from a specific excel sheet.\n",
    "\n",
    "    Args:\n",
    "        folder_path (str): path to the folder containing the excel files\n",
    "        plate_num (int): the excel sheet number corresponding to the plate\n",
    "\n",
    "    Returns:\n",
    "        list: list of plate objects\n",
    "        list: list of dictionaries containing the data\n",
    "    \"\"\"\n",
    "    plate_files = os.listdir(folder_path)\n",
    "\n",
    "    # filter and sort the files\n",
    "    plate_files = [p for p in plate_files if p.endswith('.xlsx')]\n",
    "    plate_files.sort(key=natural_keys)\n",
    "\n",
    "    plates = []\n",
    "    data = []\n",
    "    for plate_file in plate_files:\n",
    "        if plate_file[0] != '~': # ignore temporary files\n",
    "            path_t = os.getcwd() + os.sep + folder_path + os.sep + plate_file # path to the excel file\n",
    "\n",
    "            # get a plate object corresponding to the excel file\n",
    "            p = AutoRate.Plate(path_t,mode='single_measurement')\n",
    "            plates.append(p)\n",
    "\n",
    "            # put the data in dictionary format with keys corresponding to the well names \n",
    "            data.append(p.od_data_to_dict(p.data))\n",
    "            \n",
    "    return plates,data"
   ]
  },
  {
   "cell_type": "code",
   "execution_count": 2,
   "metadata": {},
   "outputs": [
    {
     "name": "stdout",
     "output_type": "stream",
     "text": [
      "[ 18700. 113600. 564000.]\n",
      "[310000.   3300.   1800.]\n"
     ]
    }
   ],
   "source": [
    "# cfu estimates\n",
    "\n",
    "t0_ctx_0 = np.nanmean([(77/50)*10**4,(11/50)*10**5])\n",
    "t0_ctx_10 = np.nanmean([np.nan,(155/50)*10**5])\n",
    "\n",
    "t1_ctx_0 = np.nanmean([(526/50)*10**4,(61/50)*10**5])\n",
    "t1_ctx_10 = np.nanmean([(13/50)*10**4,(2/50)*10**5])\n",
    "\n",
    "t2_ctx_0 = np.nanmean([np.nan,(282/50)*10**5])\n",
    "t2_ctx_10 = np.nanmean([(8/50)*10**4,(1/50)*10**5])\n",
    "\n",
    "ctx0_mean = np.array([t0_ctx_0,t1_ctx_0,t2_ctx_0])\n",
    "ctx10_mean = np.array([t0_ctx_10,t1_ctx_10,t2_ctx_10])\n",
    "\n",
    "ctx0_raw = {10**4:np.array([(77)/50*10**4,(526)/50*10**4,np.nan]),\n",
    "            10**5:np.array([(11)/50*10**5,(61)/50*10**5,(282)/50*10**5])}\n",
    "\n",
    "ctx10_raw = {10**4:np.array([np.nan,(13)/50*10**4,(8)/50*10**4]),\n",
    "            10**5:np.array([(155)/50*10**5,(2)/50*10**5,(1)/50*10**5])}\n",
    "\n",
    "\n",
    "print(ctx0_mean)\n",
    "print(ctx10_mean)"
   ]
  },
  {
   "cell_type": "code",
   "execution_count": 3,
   "metadata": {},
   "outputs": [],
   "source": [
    "mean_dict = {} # mean fluorescence\n",
    "err_dict = {} # standard error of the mean\n",
    "\n",
    "cell_count_raw = {}\n",
    "cell_count_mean = {} # mean cell count\n",
    "cell_count_err = {} # standard error of the mean\n",
    "cell_count_log_err = {} # standard error of the mean of the log\n",
    "\n",
    "# B-D and E-G are replicates\n",
    "plate,data = get_timeseries(folder_path)\n",
    "\n",
    "for exp_key in exp_layout.keys():\n",
    "\n",
    "    time_list = []\n",
    "\n",
    "    data_t = np.zeros((3,3))\n",
    "\n",
    "    for i in range(len(data)):\n",
    "\n",
    "        dt = plate[i].get_start_time()\n",
    "        time_list.append(dt)\n",
    "\n",
    "        # arrange data (replicates,timepoints)\n",
    "        \n",
    "\n",
    "        row_indx = 0 # replicate index\n",
    "        for row in exp_layout[exp_key]:\n",
    "            # col_indx = 0\n",
    "            # for col in range(10):\n",
    "                # if col != 2: # ignore column 2 because of experimental mistake\n",
    "            key = row + str(i+2) # col+2 because we start the experiment at col 2\n",
    "            data_t[row_indx,i] = data[i][key]\n",
    "            # col_indx += 1\n",
    "            row_indx += 1\n",
    "\n",
    "    mean_dict[exp_key] = np.mean(data_t,axis=0)\n",
    "    err_dict[exp_key] = np.std(data_t,axis=0)/np.sqrt(3)\n",
    "\n",
    "    cell_count_data = rfu30_to_dilution(data_t,background_subtracted=False)\n",
    "    cell_count_mean[exp_key] = np.mean(cell_count_data,axis=0)\n",
    "    cell_count_err[exp_key] = np.std(cell_count_data,axis=0)/np.sqrt(3)\n",
    "    cell_count_log_err[exp_key] = np.std(np.log10(cell_count_data),axis=0)/np.sqrt(3)\n",
    "    cell_count_raw[exp_key] = cell_count_data\n",
    "\n",
    "# get the sample times\n",
    "\n",
    "time = []\n",
    "\n",
    "t0 = time_list[0]\n",
    "for t in time_list:\n",
    "    time.append((t-t0).total_seconds()/60)\n",
    "\n",
    "time = np.array(time)\n",
    "\n",
    "dict_t = {'time':time,\n",
    "          'mean':mean_dict,\n",
    "          'err':err_dict,\n",
    "          'cell_count_mean':cell_count_mean,\n",
    "          'cell_count_err':cell_count_err,\n",
    "          'cell_count_log_err':cell_count_log_err}"
   ]
  },
  {
   "cell_type": "code",
   "execution_count": 5,
   "metadata": {},
   "outputs": [
    {
     "data": {
      "image/png": "[encoded data removed]",
      "text/plain": [
       "<Figure size 500x500 with 2 Axes>"
      ]
     },
     "metadata": {},
     "output_type": "display_data"
    }
   ],
   "source": [
    "fig,ax_list = plt.subplots(nrows=2,ncols=1,figsize=(5,5),sharex=True,sharey=True)\n",
    "ax_list = ax_list.flatten()\n",
    "\n",
    "row_indx = 0\n",
    "for key in cell_count_mean.keys():\n",
    "    ax = ax_list[row_indx]\n",
    "    cell_count_t = cell_count_raw[key]\n",
    "\n",
    "    for i in range(3):\n",
    "        ax.scatter(time,cell_count_t[i,:],color='steelblue',alpha=1,s=10)\n",
    "        ax.plot(time,cell_count_t[i,:],color='coral',alpha=0.7,linewidth=2,label='AB')\n",
    "        \n",
    "    # ax.errorbar(time,cell_count_mean[key],yerr=cell_count_err[key],fmt='o',label=key)\n",
    "    # ax.scatter(time,mean_dict[key],label=key)\n",
    "    # ax.set_xscale('log')\n",
    "    ax.set_title(str(key) + ' $\\mathrm{\\mu}$g/mL',fontsize=10)\n",
    "    ax.set_yscale('log')\n",
    "    ax.spines['right'].set_visible(False)\n",
    "    ax.spines['top'].set_visible(False)\n",
    "    row_indx += 1\n",
    "\n",
    "# ax_list[0].plot(time,ctx0_mean,color='black',linewidth=2)\n",
    "\n",
    "for key in ctx0_raw.keys():\n",
    "    ax_list[0].scatter(time,ctx0_raw[key],color='gray',alpha=1,s=20)\n",
    "    ax_list[0].plot(time,ctx0_raw[key],color='gray',alpha=0.5,linewidth=2,label='CFU')\n",
    "\n",
    "for key in ctx10_raw.keys():\n",
    "    ax_list[1].scatter(time,ctx10_raw[key],color='gray',alpha=1,s=20)\n",
    "    ax_list[1].plot(time,ctx10_raw[key],color='gray',alpha=0.5,linewidth=2,label='CFU')\n",
    "\n",
    "# plot only unique legend entries\n",
    "    \n",
    "handles, labels = ax_list[0].get_legend_handles_labels()\n",
    "by_label = dict(zip(labels, handles))\n",
    "ax_list[0].legend(by_label.values(), by_label.keys(),frameon=False)\n",
    "\n",
    "ax_list[1].set_xlabel('Time (min)')\n",
    "\n",
    "for ax in ax_list:\n",
    "    ax.set_ylabel('Cell count ($\\mathrm{\\mu}$L$^{-1}$)')\n",
    "\n",
    "fig.tight_layout()\n",
    "\n",
    "fig.savefig('../../figures/time_kill_11092023_cell_count.pdf',bbox_inches='tight')"
   ]
  },
  {
   "cell_type": "code",
   "execution_count": 8,
   "metadata": {},
   "outputs": [
    {
     "data": {
      "text/plain": [
       "3300.0"
      ]
     },
     "execution_count": 8,
     "metadata": {},
     "output_type": "execute_result"
    }
   ],
   "source": [
    "np.mean([2600,4000])"
   ]
  },
  {
   "cell_type": "code",
   "execution_count": 9,
   "metadata": {},
   "outputs": [
    {
     "data": {
      "text/plain": [
       "{0: array([  6729.34220571, 182711.12198011, 259668.35413833]),\n",
       " 10: array([221028.12961867, 375758.40952344,  44044.55531351])}"
      ]
     },
     "execution_count": 9,
     "metadata": {},
     "output_type": "execute_result"
    }
   ],
   "source": [
    "cell_count_mean"
   ]
  }
 ],
 "metadata": {
  "kernelspec": {
   "display_name": "base",
   "language": "python",
   "name": "python3"
  },
  "language_info": {
   "codemirror_mode": {
    "name": "ipython",
    "version": 3
   },
   "file_extension": ".py",
   "mimetype": "text/x-python",
   "name": "python",
   "nbconvert_exporter": "python",
   "pygments_lexer": "ipython3",
   "version": "3.8.13"
  }
 },
 "nbformat": 4,
 "nbformat_minor": 2
}
