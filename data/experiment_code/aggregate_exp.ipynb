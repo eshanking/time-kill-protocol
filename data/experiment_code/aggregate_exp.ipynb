{
 "cells": [
  {
   "cell_type": "code",
   "execution_count": 1,
   "metadata": {},
   "outputs": [],
   "source": [
    "import pandas as pd\n",
    "import numpy as np\n",
    "import matplotlib.pyplot as plt\n",
    "import seaborn as sns\n",
    "import calibration_08302023 as cal\n",
    "import sys\n",
    "sys.path.append('../../')\n",
    "from utils import *\n",
    "from fears.utils import AutoRate\n",
    "\n",
    "rfu30_to_dilution = cal.run()\n",
    "\n",
    "folder_path = '../experiment_data/aggregate_exp'"
   ]
  },
  {
   "cell_type": "code",
   "execution_count": 2,
   "metadata": {},
   "outputs": [],
   "source": [
    "plates,data = get_timeseries(folder_path,plate_num=None)\n",
    "\n",
    "cols = ['2','3','4']\n",
    "\n",
    "exp_layout = {'original_well':['B','C','D'],\n",
    "              'transfer_well':['E','F','G']}\n",
    "\n",
    "cell_count_log = {'original_well_mean':[],\n",
    "                  'transfer_well_mean':[],\n",
    "                  'original_well_err':[],\n",
    "                  'transfer_well_err':[]}\n",
    "\n",
    "cell_count = {'original_well_mean':[],\n",
    "              'transfer_well_mean':[],\n",
    "              'original_well_err':[],\n",
    "              'transfer_well_err':[]}\n",
    "\n",
    "time_vect = []\n",
    "\n",
    "for i,col in enumerate(cols):\n",
    "    data_t = data[i]\n",
    "\n",
    "    time_vect.append(plates[i].get_start_time())\n",
    "\n",
    "    original_well = []\n",
    "    transfer_well = []\n",
    "\n",
    "    for row in exp_layout['original_well']:\n",
    "        key = row+col\n",
    "        original_well.append(data_t[key])\n",
    "    \n",
    "    for row in exp_layout['transfer_well']:\n",
    "        key = row+col\n",
    "\n",
    "        transfer_well.append(data_t[key])\n",
    "    \n",
    "    original_well = rfu30_to_dilution(original_well)\n",
    "    transfer_well = rfu30_to_dilution(transfer_well)\n",
    "\n",
    "    original_log = np.log10(original_well)\n",
    "    transfer_log = np.log10(transfer_well)\n",
    "\n",
    "    original_well_mean = np.mean(original_well)\n",
    "    transfer_well_mean = np.mean(transfer_well)\n",
    "\n",
    "    original_well_err = np.std(original_well)/np.sqrt(len(original_well))\n",
    "    transfer_well_err = np.std(transfer_well)/np.sqrt(len(transfer_well))\n",
    "\n",
    "    cell_count['original_well_mean'].append(original_well_mean)\n",
    "    cell_count['transfer_well_mean'].append(transfer_well_mean)\n",
    "    cell_count['original_well_err'].append(original_well_err)\n",
    "    cell_count['transfer_well_err'].append(transfer_well_err)\n",
    "\n",
    "    original_well_mean = np.mean(original_log)\n",
    "    transfer_well_mean = np.mean(transfer_log)\n",
    "\n",
    "    original_well_err = np.std(original_log)/np.sqrt(len(original_log))\n",
    "    transfer_well_err = np.std(transfer_log)/np.sqrt(len(transfer_log))\n",
    "\n",
    "    cell_count_log['original_well_mean'].append(original_well_mean)\n",
    "    cell_count_log['transfer_well_mean'].append(transfer_well_mean)\n",
    "    cell_count_log['original_well_err'].append(original_well_err)\n",
    "    cell_count_log['transfer_well_err'].append(transfer_well_err)\n",
    "\n",
    "time = []\n",
    "\n",
    "t0 = time_vect[0]\n",
    "for t in time_vect:\n",
    "    time.append((t-t0).total_seconds()/60)\n",
    "\n",
    "time = np.array(time)"
   ]
  },
  {
   "cell_type": "code",
   "execution_count": 8,
   "metadata": {},
   "outputs": [
    {
     "data": {
      "image/png": "[encoded data removed]",
      "text/plain": [
       "<Figure size 400x300 with 1 Axes>"
      ]
     },
     "metadata": {},
     "output_type": "display_data"
    }
   ],
   "source": [
    "fig,ax = plt.subplots(figsize=(4,3))\n",
    "\n",
    "ax.errorbar(time,cell_count['original_well_mean'],yerr=cell_count['original_well_err'],label='original well',fmt='o',color='C0')\n",
    "ax.errorbar(time,cell_count['transfer_well_mean'],yerr=cell_count['transfer_well_err'],label='transfer well',fmt='o',color='C1')\n",
    "\n",
    "ax.plot(time,cell_count['original_well_mean'],color='C0',linewidth=2,alpha=0.5)\n",
    "ax.plot(time,cell_count['transfer_well_mean'],color='C1',linewidth=2,alpha=0.5)\n",
    "\n",
    "ax.set_xlabel('Time (min)')\n",
    "ax.set_ylabel('Cell Count ($\\mathrm{\\mu L^{-1}}$)')\n",
    "\n",
    "ax.set_yscale('log')\n",
    "\n",
    "ax.legend(frameon=False)\n",
    "\n",
    "ax.spines['top'].set_visible(False)\n",
    "ax.spines['right'].set_visible(False)\n",
    "\n",
    "fig.savefig('../../figures/transfer_exp.pdf',bbox_inches='tight')"
   ]
  }
 ],
 "metadata": {
  "kernelspec": {
   "display_name": "base",
   "language": "python",
   "name": "python3"
  },
  "language_info": {
   "codemirror_mode": {
    "name": "ipython",
    "version": 3
   },
   "file_extension": ".py",
   "mimetype": "text/x-python",
   "name": "python",
   "nbconvert_exporter": "python",
   "pygments_lexer": "ipython3",
   "version": "3.8.13"
  }
 },
 "nbformat": 4,
 "nbformat_minor": 2
}
