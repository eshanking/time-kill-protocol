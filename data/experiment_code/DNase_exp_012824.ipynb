{
 "cells": [
  {
   "cell_type": "code",
   "execution_count": 12,
   "metadata": {},
   "outputs": [],
   "source": [
    "import pandas as pd\n",
    "import numpy as np\n",
    "import matplotlib.pyplot as plt\n",
    "import seaborn as sns\n",
    "import calibration_08302023 as cal\n",
    "import sys\n",
    "sys.path.append('../../')\n",
    "from utils import *\n",
    "from fears.utils import AutoRate\n",
    "\n",
    "rfu30_to_dilution = cal.run()\n",
    "\n",
    "data_file = '../experiment_data/DNase_exp_01282024.xlsx'\n",
    "\n",
    "ab_folder = '../experiment_data/DNase_exp_ab_01282024'\n",
    "\n",
    "df = pd.read_excel(data_file, header=0)\n",
    "df['Cell count 10^4'] = df['Cell count 10^4']*10**4/50\n",
    "df['Cell count 10^5'] = df['Cell count 10^5']*10**5/50\n",
    "\n",
    "df['mean'] = df[['Cell count 10^4','Cell count 10^5']].mean(axis=1)"
   ]
  },
  {
   "cell_type": "code",
   "execution_count": 22,
   "metadata": {},
   "outputs": [
    {
     "data": {
      "text/html": [
       "<div>\n",
       "<style scoped>\n",
       "    .dataframe tbody tr th:only-of-type {\n",
       "        vertical-align: middle;\n",
       "    }\n",
       "\n",
       "    .dataframe tbody tr th {\n",
       "        vertical-align: top;\n",
       "    }\n",
       "\n",
       "    .dataframe thead th {\n",
       "        text-align: right;\n",
       "    }\n",
       "</style>\n",
       "<table border=\"1\" class=\"dataframe\">\n",
       "  <thead>\n",
       "    <tr style=\"text-align: right;\">\n",
       "      <th></th>\n",
       "      <th>Time</th>\n",
       "      <th>Cell count 10^4</th>\n",
       "      <th>Cell count 10^5</th>\n",
       "      <th>DNase</th>\n",
       "      <th>mean</th>\n",
       "    </tr>\n",
       "  </thead>\n",
       "  <tbody>\n",
       "    <tr>\n",
       "      <th>0</th>\n",
       "      <td>0</td>\n",
       "      <td>71800.0</td>\n",
       "      <td>86000.0</td>\n",
       "      <td>pos</td>\n",
       "      <td>78900.0</td>\n",
       "    </tr>\n",
       "    <tr>\n",
       "      <th>1</th>\n",
       "      <td>180</td>\n",
       "      <td>1800.0</td>\n",
       "      <td>0.0</td>\n",
       "      <td>pos</td>\n",
       "      <td>900.0</td>\n",
       "    </tr>\n",
       "    <tr>\n",
       "      <th>2</th>\n",
       "      <td>0</td>\n",
       "      <td>67000.0</td>\n",
       "      <td>66000.0</td>\n",
       "      <td>neg</td>\n",
       "      <td>66500.0</td>\n",
       "    </tr>\n",
       "    <tr>\n",
       "      <th>3</th>\n",
       "      <td>180</td>\n",
       "      <td>400.0</td>\n",
       "      <td>0.0</td>\n",
       "      <td>neg</td>\n",
       "      <td>200.0</td>\n",
       "    </tr>\n",
       "  </tbody>\n",
       "</table>\n",
       "</div>"
      ],
      "text/plain": [
       "   Time  Cell count 10^4  Cell count 10^5 DNase     mean\n",
       "0     0          71800.0          86000.0   pos  78900.0\n",
       "1   180           1800.0              0.0   pos    900.0\n",
       "2     0          67000.0          66000.0   neg  66500.0\n",
       "3   180            400.0              0.0   neg    200.0"
      ]
     },
     "execution_count": 22,
     "metadata": {},
     "output_type": "execute_result"
    }
   ],
   "source": [
    "df"
   ]
  },
  {
   "cell_type": "code",
   "execution_count": 24,
   "metadata": {},
   "outputs": [
    {
     "name": "stdout",
     "output_type": "stream",
     "text": [
      "D2\n",
      "E2\n",
      "F2\n",
      "D3\n",
      "E3\n",
      "F3\n"
     ]
    }
   ],
   "source": [
    "files = os.listdir(ab_folder)\n",
    "files = [f for f in files if f.endswith('.xlsx')\n",
    "         and not f.startswith('.')]\n",
    "files.sort(key=natural_keys)\n",
    "\n",
    "replicates = ['D','E','F']\n",
    "\n",
    "cols = ['2','3']\n",
    "\n",
    "rfu_dict = {'mean':[],\n",
    "            'err':[]}\n",
    "cell_count_dict = {'mean':[],\n",
    "                   'err':[],\n",
    "                   'log_mean':[],\n",
    "                   'log_err':[]}\n",
    "\n",
    "time_list = []\n",
    "\n",
    "for i,col in enumerate(cols):\n",
    "    file = files[i]\n",
    "    file_path = os.path.join(ab_folder,file)\n",
    "    p = AutoRate.Plate(file_path,mode='single_measurement')\n",
    "    data = p.od_data_to_dict(p.data)\n",
    "\n",
    "    time_list.append(p.get_start_time())\n",
    "\n",
    "    rfu_t = []\n",
    "    for row in replicates:\n",
    "        key = row+col\n",
    "        print(key)\n",
    "        rfu_t.append(data[key])\n",
    "    \n",
    "    cell_count_t = rfu30_to_dilution(rfu_t,background_subtracted=False)\n",
    "\n",
    "    cell_count_log = np.log10(cell_count_t)\n",
    "\n",
    "    rfu_dict['mean'].append(np.mean(rfu_t))\n",
    "    rfu_dict['err'].append(np.std(rfu_t)/np.sqrt(len(rfu_t)))\n",
    "    cell_count_dict['mean'].append(np.mean(cell_count_t))\n",
    "    cell_count_dict['err'].append(np.std(cell_count_t)/np.sqrt(len(cell_count_t)))\n",
    "    cell_count_dict['log_mean'].append(np.mean(cell_count_log))\n",
    "    cell_count_dict['log_err'].append(np.std(cell_count_log)/np.sqrt(len(cell_count_log)))\n",
    "\n",
    "time = []\n",
    "\n",
    "t0 = time_list[0]\n",
    "for t in time_list:\n",
    "    time.append((t-t0).total_seconds()/60)\n",
    "\n",
    "time = np.array(time)"
   ]
  },
  {
   "cell_type": "code",
   "execution_count": 23,
   "metadata": {},
   "outputs": [
    {
     "data": {
      "text/plain": [
       "{'mean': [3300.6666666666665, 2004.3333333333333],\n",
       " 'err': [52.673698546034515, 56.95287200510287]}"
      ]
     },
     "execution_count": 23,
     "metadata": {},
     "output_type": "execute_result"
    }
   ],
   "source": [
    "rfu_dict"
   ]
  },
  {
   "cell_type": "code",
   "execution_count": 20,
   "metadata": {},
   "outputs": [
    {
     "data": {
      "text/plain": [
       "<ErrorbarContainer object of 3 artists>"
      ]
     },
     "execution_count": 20,
     "metadata": {},
     "output_type": "execute_result"
    },
    {
     "data": {
      "image/png": "[encoded data removed]",
      "text/plain": [
       "<Figure size 600x400 with 1 Axes>"
      ]
     },
     "metadata": {},
     "output_type": "display_data"
    }
   ],
   "source": [
    "fig,ax = plt.subplots(figsize=(6,4))\n",
    "\n",
    "s = 40\n",
    "\n",
    "# ax = sns.scatterplot(y='Cell count 10^4', x='Time', data=df, hue='DNase', legend=True, ax=ax,s=s)\n",
    "# ax = sns.scatterplot(y='Cell count 10^5', x='Time', data=df, hue='DNase', legend=True, ax=ax,s=s)\n",
    "\n",
    "ax = sns.lineplot(y='mean', x='Time', data=df, hue='DNase', ax=ax, alpha=0.5,linewidth=2)\n",
    "\n",
    "ax.set_yscale('log')\n",
    "\n",
    "# only plot unique legend entries\n",
    "\n",
    "handles, labels = ax.get_legend_handles_labels()\n",
    "by_label = dict(zip(labels, handles))\n",
    "ax.legend(by_label.values(), by_label.keys(), frameon=False,title='DNase')\n",
    "\n",
    "ax.spines['top'].set_visible(False)\n",
    "ax.spines['right'].set_visible(False)\n",
    "\n",
    "ax.set_xlabel('Time (min)')\n",
    "ax.set_ylabel('Cell Count (uL$^{-1}$)')\n",
    "\n",
    "ax.errorbar(time,cell_count_dict['mean'],yerr=cell_count_dict['err'],fmt='o',color='k',capsize=5,markersize=5)\n"
   ]
  },
  {
   "cell_type": "code",
   "execution_count": 21,
   "metadata": {},
   "outputs": [
    {
     "data": {
      "text/plain": [
       "{'mean': [19722.546027179542, 7755.3485750807895],\n",
       " 'err': [696.5644979263042, 364.09100120423733],\n",
       " 'log_mean': [4.294160586597445, 3.8881034009882462],\n",
       " 'log_err': [0.015193264272936683, 0.021041181535256737]}"
      ]
     },
     "execution_count": 21,
     "metadata": {},
     "output_type": "execute_result"
    }
   ],
   "source": [
    "cell_count_dict"
   ]
  }
 ],
 "metadata": {
  "kernelspec": {
   "display_name": "base",
   "language": "python",
   "name": "python3"
  },
  "language_info": {
   "codemirror_mode": {
    "name": "ipython",
    "version": 3
   },
   "file_extension": ".py",
   "mimetype": "text/x-python",
   "name": "python",
   "nbconvert_exporter": "python",
   "pygments_lexer": "ipython3",
   "version": "3.8.13"
  }
 },
 "nbformat": 4,
 "nbformat_minor": 2
}
