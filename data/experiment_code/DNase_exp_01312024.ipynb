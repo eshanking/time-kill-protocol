{
 "cells": [
  {
   "cell_type": "code",
   "execution_count": 10,
   "metadata": {},
   "outputs": [],
   "source": [
    "import pandas as pd\n",
    "import numpy as np\n",
    "import matplotlib.pyplot as plt\n",
    "import seaborn as sns\n",
    "import calibration_08302023 as cal\n",
    "import sys\n",
    "sys.path.append('../../')\n",
    "from utils import *\n",
    "from fears.utils import AutoRate\n",
    "from sklearn.linear_model import LinearRegression\n",
    "import pickle\n",
    "\n",
    "spline_path = '../calibration_code/spline_cal_01312024.pkl'\n",
    "spline = pickle.load(open(spline_path,'rb'))\n",
    "\n",
    "pickle_file = '../calibration_code/calibration_02152024.pkl'\n",
    "rfu_to_dilution = pickle.load(open(pickle_file,'rb'))\n",
    "\n",
    "data_file = '../experiment_data/DNase_exp_01312024.xlsx'\n",
    "\n",
    "ab_folder = '../experiment_data/DNase_exp_ab_01312024'\n",
    "\n",
    "df = pd.read_excel(data_file, header=0)\n",
    "df['Cell count 10^4'] = df['Cell count 10^4']*10**4/50\n",
    "df['Cell count 10^5'] = df['Cell count 10^5']*10**5/50\n",
    "df['Cell count 10^6'] = df['Cell count 10^6']*10**6/50\n",
    "\n",
    "df['mean'] = df[['Cell count 10^4','Cell count 10^5','Cell count 10^6']].mean(axis=1)"
   ]
  },
  {
   "cell_type": "code",
   "execution_count": 11,
   "metadata": {},
   "outputs": [],
   "source": [
    "files = os.listdir(ab_folder)\n",
    "files = [f for f in files if f.endswith('.xlsx')\n",
    "         and not f.startswith('.')]\n",
    "files.sort(key=natural_keys)\n",
    "\n",
    "replicates = ['D','E','F']\n",
    "\n",
    "cols = ['2','3']\n",
    "\n",
    "rfu_dict = {'mean':[],\n",
    "            'err':[]}\n",
    "cell_count_dict = {'mean':[],\n",
    "                   'err':[],\n",
    "                   'log_mean':[],\n",
    "                   'log_err':[]}\n",
    "\n",
    "cell_count_raw = {}\n",
    "\n",
    "time_list = []\n",
    "\n",
    "for i,col in enumerate(cols):\n",
    "    file = files[i]\n",
    "    file_path = os.path.join(ab_folder,file)\n",
    "    p = AutoRate.Plate(file_path,mode='single_measurement')\n",
    "    data = p.od_data_to_dict(p.data)\n",
    "\n",
    "    time_list.append(p.get_start_time())\n",
    "\n",
    "    rfu_t = []\n",
    "    for row in replicates:\n",
    "        key = row+col\n",
    "        rfu_t.append(data[key]-200) # background subtraction\n",
    "    \n",
    "    # cell_count_t = rfu30_to_dilution(rfu_t,background_subtractedc=False)\n",
    "    rfu_t = np.log10(rfu_t)\n",
    "    cell_count_log = rfu_to_dilution.predict(rfu_t.reshape(-1,1))\n",
    "    # cell_count_t = spline(rfu_t)*137928\n",
    "    # cell_count_log = np.log10(cell_count_t)\n",
    "    cell_count_t = 10**cell_count_log\n",
    "\n",
    "    rfu_dict['mean'].append(np.mean(rfu_t))\n",
    "    rfu_dict['err'].append(np.std(rfu_t)/np.sqrt(len(rfu_t)))\n",
    "    cell_count_dict['mean'].append(np.mean(cell_count_t))\n",
    "    cell_count_dict['err'].append(np.std(cell_count_t)/np.sqrt(len(cell_count_t)))\n",
    "    cell_count_dict['log_mean'].append(np.mean(cell_count_log))\n",
    "    cell_count_dict['log_err'].append(np.std(cell_count_log)/np.sqrt(len(cell_count_log)))\n",
    "\n",
    "    cell_count_raw[i] = cell_count_t\n",
    "\n",
    "time = []\n",
    "\n",
    "t0 = time_list[0]\n",
    "for t in time_list:\n",
    "    time.append((t-t0).total_seconds()/60)\n",
    "\n",
    "time = np.array(time)"
   ]
  },
  {
   "cell_type": "code",
   "execution_count": 13,
   "metadata": {},
   "outputs": [],
   "source": [
    "# fig,ax = plt.subplots(figsize=(6,4))\n",
    "\n",
    "# s = 40\n",
    "\n",
    "# # ax = sns.scatterplot(y='Cell count 10^4', x='Time', data=df, hue='DNase', legend=True, ax=ax,s=s)\n",
    "# # ax = sns.scatterplot(y='Cell count 10^5', x='Time', data=df, hue='DNase', legend=True, ax=ax,s=s)\n",
    "\n",
    "# ax = sns.lineplot(y='mean', x='Time', data=df, hue='DNase', ax=ax, alpha=0.5,linewidth=2)\n",
    "\n",
    "# # ax.set_yscale('log')\n",
    "\n",
    "# # only plot unique legend entries\n",
    "\n",
    "# handles, labels = ax.get_legend_handles_labels()\n",
    "# by_label = dict(zip(labels, handles))\n",
    "# ax.legend(by_label.values(), by_label.keys(), frameon=False,title='DNase')\n",
    "\n",
    "# ax.spines['top'].set_visible(False)\n",
    "# ax.spines['right'].set_visible(False)\n",
    "\n",
    "# ax.set_xlabel('Time (min)')\n",
    "# ax.set_ylabel('Cell Count (uL$^{-1}$)')\n",
    "\n",
    "# ax.errorbar(time,cell_count_dict['mean'],yerr=cell_count_dict['err'],fmt='o',color='k',capsize=5,markersize=5)\n",
    "\n",
    "# ax.set_yscale('log')\n"
   ]
  },
  {
   "cell_type": "code",
   "execution_count": 14,
   "metadata": {},
   "outputs": [
    {
     "data": {
      "text/plain": [
       "(-10.0, 1000000.0)"
      ]
     },
     "execution_count": 14,
     "metadata": {},
     "output_type": "execute_result"
    },
    {
     "data": {
      "image/png": "[encoded data removed]",
      "text/plain": [
       "<Figure size 400x300 with 1 Axes>"
      ]
     },
     "metadata": {},
     "output_type": "display_data"
    }
   ],
   "source": [
    "data_file = '../experiment_data/DNase_exp_01312024_long.xlsx'\n",
    "\n",
    "df = pd.read_excel(data_file, header=0)\n",
    "\n",
    "fig,ax = plt.subplots(figsize=(4,3))\n",
    "\n",
    "s = 7\n",
    "\n",
    "hue_order = ['neg','pos','AB']\n",
    "\n",
    "ax = sns.stripplot(x='Time', y='Cell count', data=df, hue='DNase', ax=ax,\n",
    "                   dodge=True,jitter=False,palette='Set2',s=s,hue_order=hue_order)\n",
    "\n",
    "ax = sns.boxplot(x='Time', y='Cell count', data=df, hue='DNase', ax=ax,\n",
    "                 palette='Set2',hue_order=hue_order,linewidth=1)  \n",
    "\n",
    "ax.set_yscale('symlog',linthresh=100)\n",
    "\n",
    "\n",
    "sns.pointplot(x='Time', y='Cell count', data=df, hue='DNase', hue_order=hue_order, ax=ax,\n",
    "              dodge=.8 - .8 / 3, marker='',linewidth=2,palette='Set2')\n",
    "\n",
    "handles, labels = ax.get_legend_handles_labels()\n",
    "by_label = dict(zip(labels, handles))\n",
    "ax.legend(by_label.values(), ['— DNase CFU','+ DNase CFU','— DNase AB'], frameon=False,loc='lower left',fontsize=10)\n",
    "\n",
    "ax.spines['top'].set_visible(False)\n",
    "ax.spines['right'].set_visible(False)\n",
    "\n",
    "ax.set_xlabel('Time (min)')\n",
    "ax.set_ylabel('Cell Count ($\\mathrm{\\mu L^{-1}}$)')\n",
    "\n",
    "ax.set_ylim(-10,10**6)"
   ]
  },
  {
   "cell_type": "code",
   "execution_count": 15,
   "metadata": {},
   "outputs": [],
   "source": [
    "fig.savefig('../../figures/DNase_exp_01312024.pdf',bbox_inches='tight')"
   ]
  }
 ],
 "metadata": {
  "kernelspec": {
   "display_name": "base",
   "language": "python",
   "name": "python3"
  },
  "language_info": {
   "codemirror_mode": {
    "name": "ipython",
    "version": 3
   },
   "file_extension": ".py",
   "mimetype": "text/x-python",
   "name": "python",
   "nbconvert_exporter": "python",
   "pygments_lexer": "ipython3",
   "version": "3.8.13"
  }
 },
 "nbformat": 4,
 "nbformat_minor": 2
}
