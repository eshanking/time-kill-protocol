{
 "cells": [
  {
   "cell_type": "code",
   "execution_count": 22,
   "metadata": {},
   "outputs": [],
   "source": [
    "from fears.utils import AutoRate\n",
    "import numpy as np\n",
    "import matplotlib.pyplot as plt\n",
    "import matplotlib as mpl\n",
    "from scipy import stats\n",
    "from sklearn.linear_model import LinearRegression\n",
    "import pandas as pd\n",
    "import pickle"
   ]
  },
  {
   "cell_type": "code",
   "execution_count": 23,
   "metadata": {},
   "outputs": [],
   "source": [
    "# OD to CFU conversion\n",
    "\n",
    "def od_to_cfu(OD):\n",
    "    slope = 0.94\n",
    "    intercept = 5.75\n",
    "    return 10**(np.log10(OD) * slope + intercept)"
   ]
  },
  {
   "cell_type": "code",
   "execution_count": 24,
   "metadata": {},
   "outputs": [],
   "source": [
    "od_file = '../calibration_data/calibration_02152023/EK_single_OD600_20240215_114601.xlsx'\n",
    "\n",
    "p_od = AutoRate.Plate(od_file,mode='single_measurement')\n",
    "od_data = p_od.od_data_to_dict(p_od.data)\n",
    "\n",
    "# col 11 is background\n",
    "\n",
    "rows = ['B','C','D','E','F','G']\n",
    "cols = ['2','3','4','5','6','7','8','9','10','11']\n",
    "\n",
    "bg_est = np.mean([od_data[r+'11'] for r in rows])\n",
    "\n",
    "od_mean = []\n",
    "od_err = []\n",
    "\n",
    "for col in cols:\n",
    "    od_mean.append(np.mean([od_data[r+col] for r in rows]))\n",
    "    od_err.append(np.std([od_data[r+col] for r in rows])/np.sqrt(len(rows)))\n",
    "\n",
    "od_mean = od_mean - bg_est\n",
    "\n",
    "od_mean = np.array(od_mean)\n",
    "od_err = np.array(od_err)"
   ]
  },
  {
   "cell_type": "code",
   "execution_count": 25,
   "metadata": {},
   "outputs": [],
   "source": [
    "ab_file = '../calibration_data/calibration_02152023/EK_single_AB_constant_gain_20240215_122532.xlsx'\n",
    "\n",
    "p_ab = AutoRate.Plate(ab_file,mode='single_measurement')\n",
    "ab_data = p_ab.od_data_to_dict(p_ab.data)\n",
    "\n",
    "ab_background = np.mean([ab_data[r+'11'] for r in rows])\n",
    "\n",
    "rows = ['C','D','E','F','G']\n",
    "\n",
    "ab_mean = []\n",
    "ab_err = []\n",
    "\n",
    "for col in cols:\n",
    "    ab_mean.append(np.mean([ab_data[r+col] for r in rows]))\n",
    "    ab_err.append(np.std([ab_data[r+col] for r in rows])/np.sqrt(len(rows)))\n",
    "\n",
    "ab_mean = np.array(ab_mean) - ab_background\n",
    "\n",
    "ab_mean = np.array(ab_mean)\n",
    "ab_err = np.array(ab_err)"
   ]
  },
  {
   "cell_type": "code",
   "execution_count": 26,
   "metadata": {},
   "outputs": [
    {
     "data": {
      "text/plain": [
       "[<matplotlib.lines.Line2D at 0x7fcc4129f970>]"
      ]
     },
     "execution_count": 26,
     "metadata": {},
     "output_type": "execute_result"
    },
    {
     "data": {
      "image/png": "[encoded data removed]",
      "text/plain": [
       "<Figure size 500x400 with 1 Axes>"
      ]
     },
     "metadata": {},
     "output_type": "display_data"
    }
   ],
   "source": [
    "# convert OD estimates to CFU\n",
    "\n",
    "# od_t = np.log10(od_mean[0:-1])\n",
    "# cell_count_est = 10**reg.predict(od_t.reshape(-1,1))\n",
    "cell_count_est = od_to_cfu(od_mean[0:-1])\n",
    "cell_count_est_err = cell_count_est*np.log(10)*od_err[0:-1]/od_mean[0:-1]\n",
    "\n",
    "fig,ax = plt.subplots(figsize=(5,4))\n",
    "\n",
    "ax.errorbar(ab_mean[1:-1],cell_count_est[1:],yerr=cell_count_est_err[1:],xerr=ab_err[1:-1],fmt='o',label='AB')\n",
    "\n",
    "ax.set_yscale('log')\n",
    "ax.set_xscale('log')\n",
    "\n",
    "# weighted linear regression\n",
    "\n",
    "x = np.log10(ab_mean[1:-1])\n",
    "y = np.log10(cell_count_est[1:])\n",
    "w = 1/cell_count_est_err[1:]\n",
    "\n",
    "reg = LinearRegression().fit(x.reshape(-1,1),y)\n",
    "\n",
    "# plot fit\n",
    "\n",
    "x_fit = np.linspace(np.min(x),np.max(x)+0.1,100)\n",
    "y_fit = reg.predict(x_fit.reshape(-1,1))\n",
    "\n",
    "ax.plot(10**x_fit,10**y_fit,'k',label='fit',alpha=0.7,linewidth=2)"
   ]
  },
  {
   "cell_type": "code",
   "execution_count": 27,
   "metadata": {},
   "outputs": [],
   "source": [
    "with open('calibration_02152024.pkl','wb') as f:\n",
    "    pickle.dump(reg,f)"
   ]
  }
 ],
 "metadata": {
  "kernelspec": {
   "display_name": "base",
   "language": "python",
   "name": "python3"
  },
  "language_info": {
   "codemirror_mode": {
    "name": "ipython",
    "version": 3
   },
   "file_extension": ".py",
   "mimetype": "text/x-python",
   "name": "python",
   "nbconvert_exporter": "python",
   "pygments_lexer": "ipython3",
   "version": "3.9.17"
  }
 },
 "nbformat": 4,
 "nbformat_minor": 2
}
