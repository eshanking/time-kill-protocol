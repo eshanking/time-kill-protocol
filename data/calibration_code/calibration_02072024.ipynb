{
 "cells": [
  {
   "cell_type": "code",
   "execution_count": 89,
   "metadata": {},
   "outputs": [],
   "source": [
    "from fears.utils import AutoRate\n",
    "import numpy as np\n",
    "import matplotlib.pyplot as plt\n",
    "import matplotlib as mpl\n",
    "from scipy import stats\n",
    "from sklearn.linear_model import LinearRegression\n",
    "import pandas as pd\n",
    "import pickle"
   ]
  },
  {
   "cell_type": "code",
   "execution_count": 90,
   "metadata": {},
   "outputs": [],
   "source": [
    "cfu_file = '../calibration_data/calibration_02072024/CFU_counts_02072024.xlsx'\n",
    "\n",
    "df = pd.read_excel(cfu_file)\n",
    "\n",
    "df['dilution 10^4'] = df['dilution 10^4']*10**4/50\n",
    "df['dilution 10^5'] = df['dilution 10^5']*10**5/50\n",
    "df['dilution 10^6'] = df['dilution 10^6']*10**6/50\n",
    "\n",
    "df['mean'] = df[['dilution 10^4', 'dilution 10^5', 'dilution 10^6']].mean(axis=1)\n",
    "df['err'] = df[['dilution 10^4', 'dilution 10^5', 'dilution 10^6']].std(axis=1)/np.sqrt(3)\n",
    "\n",
    "df['dilution'] = 2**(df['col']-1)"
   ]
  },
  {
   "cell_type": "code",
   "execution_count": 91,
   "metadata": {},
   "outputs": [],
   "source": [
    "od_file = '../calibration_data/calibration_02072024/EK_single_OD600_20240206_134841.xlsx'\n",
    "\n",
    "p_od = AutoRate.Plate(od_file,mode='single_measurement')\n",
    "od_data = p_od.od_data_to_dict(p_od.data)\n",
    "\n",
    "# col 11 is background\n",
    "\n",
    "rows = ['B','C','D','E','F','G']\n",
    "cols = ['2','3','4','5','6','7','8','9','10','11']\n",
    "\n",
    "bg_est = np.mean([od_data[r+'11'] for r in rows])\n",
    "\n",
    "od_mean = []\n",
    "od_err = []\n",
    "\n",
    "for col in cols:\n",
    "    od_mean.append(np.mean([od_data[r+col] for r in rows]))\n",
    "    od_err.append(np.std([od_data[r+col] for r in rows])/np.sqrt(len(rows)))\n",
    "\n",
    "od_mean = od_mean - bg_est\n",
    "\n",
    "od_mean = np.array(od_mean)\n",
    "od_err = np.array(od_err)"
   ]
  },
  {
   "cell_type": "code",
   "execution_count": 92,
   "metadata": {},
   "outputs": [
    {
     "data": {
      "image/png": "[encoded data removed]",
      "text/plain": [
       "<Figure size 500x400 with 1 Axes>"
      ]
     },
     "metadata": {},
     "output_type": "display_data"
    }
   ],
   "source": [
    "fig,ax = plt.subplots(figsize=(5,4))\n",
    "\n",
    "sample_cols = df['col'].values\n",
    "\n",
    "ax.errorbar(od_mean[sample_cols-2],df['mean'],yerr=df['err'],xerr=od_err[sample_cols-2],fmt='o',label='CFU')\n",
    "\n",
    "ax.set_yscale('log')\n",
    "ax.set_xscale('log')\n",
    "\n",
    "# weighted linear regression\n",
    "\n",
    "x = np.log10(od_mean[sample_cols-2])\n",
    "y = np.log10(df['mean'])\n",
    "yerr = np.log10(df['err'])\n",
    "\n",
    "reg = LinearRegression().fit(x.reshape(-1,1),y,sample_weight=1/yerr)\n",
    "\n",
    "# plot fit\n",
    "\n",
    "x_fit = np.linspace(np.min(x),np.max(x),100)\n",
    "y_fit = reg.predict(x_fit.reshape(-1,1))\n",
    "\n",
    "ax.plot(10**x_fit,10**y_fit,'k',label='fit',alpha=0.7,linewidth=2)\n",
    "\n",
    "ax.set_xlabel('OD600',fontsize=12)\n",
    "\n",
    "ax.set_ylabel('CFU/$\\mathrm{\\mu}$L',fontsize=12)\n",
    "\n",
    "ax.spines['top'].set_visible(False)\n",
    "ax.spines['right'].set_visible(False)\n"
   ]
  },
  {
   "cell_type": "code",
   "execution_count": 93,
   "metadata": {},
   "outputs": [],
   "source": [
    "ab_file = '../calibration_data/calibration_02072024/EK_single_AB_constant_gain_20240206_144008.xlsx'\n",
    "\n",
    "p_ab = AutoRate.Plate(ab_file,mode='single_measurement')\n",
    "ab_data = p_ab.od_data_to_dict(p_ab.data)\n",
    "\n",
    "ab_background = np.mean([ab_data[r+'11'] for r in rows])\n",
    "\n",
    "rows = ['C','D','E','F','G']\n",
    "\n",
    "ab_mean = []\n",
    "ab_err = []\n",
    "\n",
    "for col in cols:\n",
    "    ab_mean.append(np.mean([ab_data[r+col] for r in rows]))\n",
    "    ab_err.append(np.std([ab_data[r+col] for r in rows])/np.sqrt(len(rows)))\n",
    "\n",
    "ab_mean = np.array(ab_mean) - ab_background\n",
    "\n",
    "ab_mean = np.array(ab_mean)\n",
    "ab_err = np.array(ab_err)"
   ]
  },
  {
   "cell_type": "code",
   "execution_count": 98,
   "metadata": {},
   "outputs": [
    {
     "data": {
      "text/plain": [
       "197.33333333333334"
      ]
     },
     "execution_count": 98,
     "metadata": {},
     "output_type": "execute_result"
    }
   ],
   "source": [
    "ab_background"
   ]
  },
  {
   "cell_type": "code",
   "execution_count": 94,
   "metadata": {},
   "outputs": [
    {
     "data": {
      "text/plain": [
       "[<matplotlib.lines.Line2D at 0x7f952e53f7f0>]"
      ]
     },
     "execution_count": 94,
     "metadata": {},
     "output_type": "execute_result"
    },
    {
     "data": {
      "image/png": "[encoded data removed]",
      "text/plain": [
       "<Figure size 500x400 with 1 Axes>"
      ]
     },
     "metadata": {},
     "output_type": "display_data"
    }
   ],
   "source": [
    "# convert OD estimates to CFU\n",
    "\n",
    "od_t = np.log10(od_mean[0:-1])\n",
    "cell_count_est = 10**reg.predict(od_t.reshape(-1,1))\n",
    "cell_count_est_err = cell_count_est*np.log(10)*od_err[0:-1]/od_mean[0:-1]\n",
    "\n",
    "fig,ax = plt.subplots(figsize=(5,4))\n",
    "\n",
    "ax.errorbar(ab_mean[1:-1],cell_count_est[1:],yerr=cell_count_est_err[1:],xerr=ab_err[1:-1],fmt='o',label='AB')\n",
    "\n",
    "ax.set_yscale('log')\n",
    "ax.set_xscale('log')\n",
    "\n",
    "# weighted linear regression\n",
    "\n",
    "x = np.log10(ab_mean[1:-1])\n",
    "y = np.log10(cell_count_est[1:])\n",
    "w = 1/cell_count_est_err[1:]\n",
    "\n",
    "reg = LinearRegression().fit(x.reshape(-1,1),y)\n",
    "\n",
    "# plot fit\n",
    "\n",
    "x_fit = np.linspace(np.min(x),np.max(x)+0.1,100)\n",
    "y_fit = reg.predict(x_fit.reshape(-1,1))\n",
    "\n",
    "ax.plot(10**x_fit,10**y_fit,'k',label='fit',alpha=0.7,linewidth=2)"
   ]
  },
  {
   "cell_type": "code",
   "execution_count": 95,
   "metadata": {},
   "outputs": [],
   "source": [
    "# pickle the fit\n",
    "\n",
    "with open('calibration_02072024.pkl','wb') as f:\n",
    "    pickle.dump(reg,f)"
   ]
  },
  {
   "cell_type": "code",
   "execution_count": 100,
   "metadata": {},
   "outputs": [
    {
     "data": {
      "text/plain": [
       "array([2506.86666667, 1773.26666667, 1187.46666667,  777.26666667,\n",
       "        459.26666667,  263.26666667,  151.66666667,   92.46666667])"
      ]
     },
     "execution_count": 100,
     "metadata": {},
     "output_type": "execute_result"
    }
   ],
   "source": [
    "10**x"
   ]
  }
 ],
 "metadata": {
  "kernelspec": {
   "display_name": "base",
   "language": "python",
   "name": "python3"
  },
  "language_info": {
   "codemirror_mode": {
    "name": "ipython",
    "version": 3
   },
   "file_extension": ".py",
   "mimetype": "text/x-python",
   "name": "python",
   "nbconvert_exporter": "python",
   "pygments_lexer": "ipython3",
   "version": "3.8.13"
  }
 },
 "nbformat": 4,
 "nbformat_minor": 2
}
